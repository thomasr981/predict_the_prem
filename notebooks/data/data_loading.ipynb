{
 "cells": [
  {
   "cell_type": "code",
   "execution_count": 1,
   "id": "cc266c2e-d927-469c-b78d-941cbf98018c",
   "metadata": {},
   "outputs": [
    {
     "data": {
      "text/html": [
       "<style>.container { width:100% !important;}</style>"
      ],
      "text/plain": [
       "<IPython.core.display.HTML object>"
      ]
     },
     "metadata": {},
     "output_type": "display_data"
    }
   ],
   "source": [
    "%load_ext autoreload\n",
    "%autoreload 2\n",
    "%reload_ext autoreload\n",
    "\n",
    "from IPython.display import Javascript, display, clear_output, HTML\n",
    "\n",
    "display(HTML(\"<style>.container { width:100% !important;}</style>\"))\n",
    "\n",
    "import pandas as pd\n",
    "\n",
    "pd.set_option(\"display.max_columns\", 500)\n",
    "pd.set_option(\"display.max_rows\", 500)"
   ]
  },
  {
   "cell_type": "code",
   "execution_count": 2,
   "id": "c808477f-bf05-4321-8ea8-289e90604f10",
   "metadata": {},
   "outputs": [],
   "source": [
    "import os, requests\n",
    "from typing import Dict\n",
    "from pathlib import Path"
   ]
  },
  {
   "cell_type": "code",
   "execution_count": 3,
   "id": "5931464f-d09f-4d12-b51f-aa917e075791",
   "metadata": {},
   "outputs": [],
   "source": [
    "repo_path = '/Users/thomasrichardson/Documents/GitHub/predict_the_prem/predict_the_prem/'"
   ]
  },
  {
   "cell_type": "code",
   "execution_count": 4,
   "id": "38b6b80e-b9f8-44ac-99fd-ffe1cebd5aac",
   "metadata": {},
   "outputs": [],
   "source": [
    "base_url = \"https://fantasy.premierleague.com/api/\""
   ]
  },
  {
   "cell_type": "code",
   "execution_count": 2,
   "id": "0a385d7a-4c4a-4d22-9eb9-084e325a1b42",
   "metadata": {},
   "outputs": [],
   "source": [
    "from typing import *"
   ]
  },
  {
   "cell_type": "code",
   "execution_count": 5,
   "id": "74d1171f-6d8e-4ed6-bf12-0dcde26f2f93",
   "metadata": {},
   "outputs": [],
   "source": [
    "import pandas as pd"
   ]
  },
  {
   "cell_type": "code",
   "execution_count": 12,
   "id": "9fecf86e-ca30-4a8b-9715-1b62b53c9429",
   "metadata": {},
   "outputs": [],
   "source": [
    "STATS_COLS = [\n",
    "    \"home_team_goals_scored_stats\",\n",
    "    \"away_team_goals_scored_stats\",\n",
    "    \"home_team_own_goals_stats\",\n",
    "    \"away_team_own_goals_stats\",\n",
    "]\n"
   ]
  },
  {
   "cell_type": "code",
   "execution_count": 6,
   "id": "c6a9b55e-6da7-4004-b359-72e2a1809f66",
   "metadata": {},
   "outputs": [],
   "source": [
    "def _expand_stats(stats: str):\n",
    "    stats = pd.DataFrame.from_records(eval(stats))\n",
    "    row_data = {}\n",
    "    for idx, row in stats.iterrows():\n",
    "        identifier = row[\"identifier\"]\n",
    "        if identifier in [\"goals_scored\", \"own_goals\"]:\n",
    "            row_data[f\"home_team_{identifier}_stats\"] = row.get(\"h\", [])\n",
    "            row_data[f\"away_team_{identifier}_stats\"] = row.get(\"a\", [])\n",
    "    for col in STATS_COLS:\n",
    "        row_data[col] = row_data.get(col, [])\n",
    "    return row_data\n",
    "\n",
    "\n",
    "def _map_player_in_stat(\n",
    "    stat: List[Dict[str, Any]], player_mapping_dict: Dict[int, str]\n",
    "):\n",
    "    stat = [\n",
    "        x\n",
    "        if not x.get(\"element\")\n",
    "        else {**x, **{\"player_name\": player_mapping_dict.get(x.get(\"element\"))}}\n",
    "        for x in stat\n",
    "    ]\n",
    "    return stat"
   ]
  },
  {
   "cell_type": "code",
   "execution_count": 7,
   "id": "81aa35aa-ad7f-466d-846a-9d483f207556",
   "metadata": {},
   "outputs": [],
   "source": [
    "def get_players_df() -> pd.DataFrame:\n",
    "    renaming_dict = {\n",
    "        \"code\": \"global_player_id\",\n",
    "        \"id\": \"player_id\",\n",
    "        \"web_name\": \"player_name\",\n",
    "    }\n",
    "    bootstrap_url = os.path.join(base_url, \"bootstrap-static/\")\n",
    "    bootstrap_response = requests.get(bootstrap_url)\n",
    "    players_df = pd.DataFrame(bootstrap_response.json()[\"elements\"])\n",
    "    return players_df.rename(columns=renaming_dict)[list(renaming_dict.values())]"
   ]
  },
  {
   "cell_type": "code",
   "execution_count": 8,
   "id": "85e06dfa-51a1-4fd8-a478-10e75c3d5ab4",
   "metadata": {},
   "outputs": [],
   "source": [
    "def get_fixtures_df(players_df: Optional[pd.DataFrame] = None) -> pd.DataFrame:\n",
    "    player_mapping_dict = (\n",
    "        {}\n",
    "        if players_df is None\n",
    "        else players_df[[\"player_id\", \"player_name\"]]\n",
    "        .set_index(\"player_id\")\n",
    "        .to_dict()[\"player_name\"]\n",
    "    )\n",
    "    renaming_dict = {\n",
    "        \"code\": \"global_match_id\",\n",
    "        \"id\": \"match_id\",\n",
    "        \"event\": \"game_week\",\n",
    "        \"finished\": \"is_finished\",\n",
    "        \"finished_provisional\": \"is_finished_provisional\",\n",
    "        \"kickoff_time\": \"match_start_time\",\n",
    "        \"provisional_start_time\": \"is_provisional_start_time\",\n",
    "        \"started\": \"is_started\",\n",
    "        \"team_h\": \"home_team_id\",\n",
    "        \"team_a\": \"away_team_id\",\n",
    "        \"team_h_score\": \"home_team_score\",\n",
    "        \"team_a_score\": \"away_team_score\",\n",
    "        \"minutes\": \"minutes_played\",\n",
    "        \"stats\": \"stats\",\n",
    "        \"team_h_difficulty\": \"home_team_difficulty\",\n",
    "        \"team_a_difficulty\": \"away_team_difficulty\",\n",
    "        \"pulse_id\": \"pulse_id\",\n",
    "    }\n",
    "    # fixtures_url = os.path.join(base_url, \"fixtures/\")\n",
    "    # fixtures_response = requests.get(fixtures_url)\n",
    "    # fixtures_df = pd.DataFrame(fixtures_response.json())\n",
    "    fixtures_df = pd.read_csv(\"/Users/thomasrichardson/Downloads/fixtures.csv\")\n",
    "    fixtures_df = fixtures_df.rename(columns=renaming_dict)[\n",
    "        list(renaming_dict.values())\n",
    "    ]\n",
    "    fixtures_df[\"match_start_time\"] = pd.to_datetime(fixtures_df[\"match_start_time\"])\n",
    "    fixtures_df[\"match_start_time\"] = (\n",
    "        fixtures_df[\"match_start_time\"]\n",
    "        .dt.tz_convert(\"Europe/London\")\n",
    "        .dt.tz_localize(None)\n",
    "    )\n",
    "    fixtures_df[\"match_start_date\"] = fixtures_df[\"match_start_time\"].dt.date\n",
    "    fixtures_df[\"match_start_time_short\"] = (\n",
    "        fixtures_df[\"match_start_time\"].dt.time.astype(str).str[:5]\n",
    "    )\n",
    "    fixtures_df[\"match_score\"] = (\n",
    "        fixtures_df[\"home_team_score\"].astype(float).fillna(0).astype(int).astype(str)\n",
    "        + \" - \"\n",
    "        + fixtures_df[\"away_team_score\"].astype(float).fillna(0).astype(int).astype(str)\n",
    "    )\n",
    "    stats_df = pd.DataFrame.from_records(\n",
    "        fixtures_df[\"stats\"].apply(_expand_stats)\n",
    "    ).reindex(labels=STATS_COLS, axis=1)\n",
    "    stats_df[\n",
    "        [\n",
    "            \"home_team_goals_scored_stats\",\n",
    "            \"away_team_goals_scored_stats\",\n",
    "            \"home_team_own_goals_stats\",\n",
    "            \"away_team_own_goals_stats\",\n",
    "        ]\n",
    "    ] = stats_df[\n",
    "        [\n",
    "            \"home_team_goals_scored_stats\",\n",
    "            \"away_team_goals_scored_stats\",\n",
    "            \"home_team_own_goals_stats\",\n",
    "            \"away_team_own_goals_stats\",\n",
    "        ]\n",
    "    ].map(\n",
    "        _map_player_in_stat, player_mapping_dict=player_mapping_dict\n",
    "    )\n",
    "    fixtures_df = pd.concat([fixtures_df, stats_df], axis=1)\n",
    "    return fixtures_df"
   ]
  },
  {
   "cell_type": "code",
   "execution_count": 9,
   "id": "06a8cae0-31a0-41d3-b481-7efafc4b6d5d",
   "metadata": {},
   "outputs": [],
   "source": [
    "def get_teams_df() -> pd.DataFrame:\n",
    "    renaming_dict = {\n",
    "        \"code\": \"global_team_id\",\n",
    "        \"id\": \"team_id\",\n",
    "        \"name\": \"team_name\",\n",
    "        \"short_name\": \"team_short_name\",\n",
    "        \"position\": \"league_position\",\n",
    "        \"strength\": \"team_strength\",\n",
    "        \"strength_overall_home\": \"team_strength_overall_home\",\n",
    "        \"strength_overall_away\": \"team_strength_overall_away\",\n",
    "        \"strength_attack_home\": \"team_strength_attack_home\",\n",
    "        \"strength_attack_away\": \"team_strength_attack_away\",\n",
    "        \"strength_defence_home\": \"team_strength_defence_home\",\n",
    "        \"strength_defence_away\": \"team_strength_defence_away\",\n",
    "        \"pulse_id\": \"pulse_id\",\n",
    "    }\n",
    "    bootstrap_url = os.path.join(base_url, \"bootstrap-static/\")\n",
    "    bootstrap_response = requests.get(bootstrap_url)\n",
    "    teams_df = pd.DataFrame(bootstrap_response.json()[\"teams\"])\n",
    "    return teams_df.rename(columns=renaming_dict)[list(renaming_dict.values())]"
   ]
  },
  {
   "cell_type": "code",
   "execution_count": 11,
   "id": "6928b1a8-a90f-49e7-94b1-b3a99c31c126",
   "metadata": {},
   "outputs": [],
   "source": [
    "def get_entries() -> Dict[str, pd.DataFrame]:\n",
    "    directory = os.path.join(repo_path, \"data/entries/\")\n",
    "    entries = {}\n",
    "    for file in os.listdir(directory):\n",
    "        filename = os.fsdecode(file)\n",
    "        if filename.endswith(\".csv\"):\n",
    "            new_entry_df = pd.read_csv(os.path.join(directory, filename))\n",
    "            new_entry_name = \"_\".join(filename[:-4].split(\"_\")[1:])\n",
    "            entries[new_entry_name] = new_entry_df\n",
    "    return dict(entries.items())"
   ]
  },
  {
   "cell_type": "code",
   "execution_count": null,
   "id": "342bb284-f68e-4aca-a4d6-9586c69c3990",
   "metadata": {},
   "outputs": [],
   "source": [
    "players_df = get_players_df()"
   ]
  },
  {
   "cell_type": "code",
   "execution_count": 8,
   "id": "2cfd4000-409f-4378-b1b1-b1ab75b62e69",
   "metadata": {},
   "outputs": [],
   "source": [
    "fixtures_df = get_fixtures_df(players_df=players_df)"
   ]
  },
  {
   "cell_type": "code",
   "execution_count": 9,
   "id": "301a8625-14e5-4ee6-8c3e-41e53c7d20a9",
   "metadata": {},
   "outputs": [],
   "source": [
    "teams_df = get_teams_df()"
   ]
  },
  {
   "cell_type": "code",
   "execution_count": 10,
   "id": "0be7b345-7228-44be-8bcd-7b6416c3c4db",
   "metadata": {},
   "outputs": [],
   "source": [
    "entries = get_entries()"
   ]
  }
 ],
 "metadata": {
  "kernelspec": {
   "display_name": "predict_the_prem",
   "language": "python",
   "name": "predict_the_prem"
  },
  "language_info": {
   "codemirror_mode": {
    "name": "ipython",
    "version": 3
   },
   "file_extension": ".py",
   "mimetype": "text/x-python",
   "name": "python",
   "nbconvert_exporter": "python",
   "pygments_lexer": "ipython3",
   "version": "3.11.9"
  }
 },
 "nbformat": 4,
 "nbformat_minor": 5
}
