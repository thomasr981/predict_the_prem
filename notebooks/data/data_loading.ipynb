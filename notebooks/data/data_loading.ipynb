{
 "cells": [
  {
   "cell_type": "code",
   "execution_count": 1,
   "id": "cc266c2e-d927-469c-b78d-941cbf98018c",
   "metadata": {},
   "outputs": [
    {
     "data": {
      "text/html": [
       "<style>.container { width:100% !important;}</style>"
      ],
      "text/plain": [
       "<IPython.core.display.HTML object>"
      ]
     },
     "metadata": {},
     "output_type": "display_data"
    }
   ],
   "source": [
    "%load_ext autoreload\n",
    "%autoreload 2\n",
    "%reload_ext autoreload\n",
    "\n",
    "from IPython.display import Javascript, display, clear_output, HTML\n",
    "\n",
    "display(HTML(\"<style>.container { width:100% !important;}</style>\"))\n",
    "\n",
    "import pandas as pd\n",
    "\n",
    "pd.set_option(\"display.max_columns\", 500)\n",
    "pd.set_option(\"display.max_rows\", 500)"
   ]
  },
  {
   "cell_type": "code",
   "execution_count": 2,
   "id": "c808477f-bf05-4321-8ea8-289e90604f10",
   "metadata": {},
   "outputs": [],
   "source": [
    "import os, requests\n",
    "from typing import Dict\n",
    "from pathlib import Path"
   ]
  },
  {
   "cell_type": "code",
   "execution_count": 3,
   "id": "5931464f-d09f-4d12-b51f-aa917e075791",
   "metadata": {},
   "outputs": [],
   "source": [
    "repo_path = '/Users/thomasrichardson/Documents/GitHub/predict_the_prem/predict_the_prem/'"
   ]
  },
  {
   "cell_type": "code",
   "execution_count": 4,
   "id": "38b6b80e-b9f8-44ac-99fd-ffe1cebd5aac",
   "metadata": {},
   "outputs": [],
   "source": [
    "base_url = \"https://fantasy.premierleague.com/api/\""
   ]
  },
  {
   "cell_type": "code",
   "execution_count": 4,
   "id": "85e06dfa-51a1-4fd8-a478-10e75c3d5ab4",
   "metadata": {},
   "outputs": [],
   "source": [
    "def get_fixtures_df() -> pd.DataFrame:\n",
    "    renaming_dict = {\n",
    "        \"code\": \"global_match_id\",\n",
    "        \"id\": \"match_id\",\n",
    "        \"event\": \"game_week\",\n",
    "        \"finished\": \"is_finished\",\n",
    "        \"finished_provisional\": \"is_finished_provisional\",\n",
    "        \"kickoff_time\": \"match_start_time\",\n",
    "        \"provisional_start_time\": \"is_provisional_start_time\",\n",
    "        \"started\": \"is_started\",\n",
    "        \"team_h\": \"home_team_id\",\n",
    "        \"team_a\": \"away_team_id\",\n",
    "        \"team_h_score\": \"home_team_score\",\n",
    "        \"team_a_score\": \"away_team_score\",\n",
    "        \"minutes\": \"minutes_played\",\n",
    "        \"stats\": \"stats\",\n",
    "        \"team_h_difficulty\": \"home_team_difficulty\",\n",
    "        \"team_a_difficulty\": \"away_team_difficulty\",\n",
    "        \"pulse_id\": \"pulse_id\",\n",
    "    }\n",
    "    fixtures_url = os.path.join(base_url, \"fixtures/\")\n",
    "    fixtures_response = requests.get(fixtures_url)\n",
    "    fixtures_df = pd.DataFrame(fixtures_response.json())\n",
    "    fixtures_df = fixtures_df.rename(columns=renaming_dict)[list(renaming_dict.values())]\n",
    "    fixtures_df[\"match_start_time\"] = pd.to_datetime(fixtures_df[\"match_start_time\"])\n",
    "    return fixtures_df"
   ]
  },
  {
   "cell_type": "code",
   "execution_count": 8,
   "id": "06a8cae0-31a0-41d3-b481-7efafc4b6d5d",
   "metadata": {},
   "outputs": [],
   "source": [
    "def get_teams_df() -> pd.DataFrame:\n",
    "    renaming_dict = {\n",
    "        \"code\": \"global_team_id\",\n",
    "        \"id\": \"team_id\",\n",
    "        \"name\": \"team_name\",\n",
    "        \"short_name\": \"team_short_name\",\n",
    "        \"position\": \"league_position\",\n",
    "        \"strength\": \"team_strength\",\n",
    "        \"strength_overall_home\": \"team_strength_overall_home\",\n",
    "        \"strength_overall_away\": \"team_strength_overall_away\",\n",
    "        \"strength_attack_home\": \"team_strength_attack_home\",\n",
    "        \"strength_attack_away\": \"team_strength_attack_away\",\n",
    "        \"strength_defence_home\": \"team_strength_defence_home\",\n",
    "        \"strength_defence_away\": \"team_strength_defence_away\",\n",
    "        \"pulse_id\": \"pulse_id\",\n",
    "    }\n",
    "    bootstrap_url = os.path.join(base_url, \"bootstrap-static/\")\n",
    "    bootstrap_response = requests.get(bootstrap_url)\n",
    "    teams_df = pd.DataFrame(bootstrap_response.json()[\"teams\"])\n",
    "    return teams_df.rename(columns=renaming_dict)[list(renaming_dict.values())]"
   ]
  },
  {
   "cell_type": "code",
   "execution_count": 13,
   "id": "6928b1a8-a90f-49e7-94b1-b3a99c31c126",
   "metadata": {},
   "outputs": [],
   "source": [
    "def get_entries() -> Dict[str, pd.DataFrame]:\n",
    "    directory = os.path.join(repo_path, \"data/entries/\")\n",
    "    entries = {}\n",
    "    for file in os.listdir(directory):\n",
    "        filename = os.fsdecode(file)\n",
    "        if filename.endswith(\".csv\"):\n",
    "            new_entry_df = pd.read_csv(os.path.join(directory, filename))\n",
    "            new_entry_name = \"_\".join(filename[:-4].split(\"_\")[1:])\n",
    "            entries[new_entry_name] = new_entry_df\n",
    "    return dict(entries.items())"
   ]
  },
  {
   "cell_type": "code",
   "execution_count": 6,
   "id": "2cfd4000-409f-4378-b1b1-b1ab75b62e69",
   "metadata": {},
   "outputs": [],
   "source": [
    "fixtures_df = get_fixtures_df()"
   ]
  },
  {
   "cell_type": "code",
   "execution_count": 9,
   "id": "301a8625-14e5-4ee6-8c3e-41e53c7d20a9",
   "metadata": {},
   "outputs": [],
   "source": [
    "teams_df = get_teams_df()"
   ]
  },
  {
   "cell_type": "code",
   "execution_count": 14,
   "id": "0be7b345-7228-44be-8bcd-7b6416c3c4db",
   "metadata": {},
   "outputs": [],
   "source": [
    "entries = get_entries()"
   ]
  },
  {
   "cell_type": "code",
   "execution_count": 5,
   "id": "214ab508-ec46-48b4-af62-cd10ce9fcc43",
   "metadata": {},
   "outputs": [],
   "source": [
    "bootstrap_url = os.path.join(base_url, \"bootstrap-static/\")\n",
    "bootstrap_response = requests.get(bootstrap_url)"
   ]
  },
  {
   "cell_type": "code",
   "execution_count": 10,
   "id": "8b6a99bb-c947-4c5e-a512-9e9b24cb005b",
   "metadata": {},
   "outputs": [
    {
     "data": {
      "text/html": [
       "<div>\n",
       "<style scoped>\n",
       "    .dataframe tbody tr th:only-of-type {\n",
       "        vertical-align: middle;\n",
       "    }\n",
       "\n",
       "    .dataframe tbody tr th {\n",
       "        vertical-align: top;\n",
       "    }\n",
       "\n",
       "    .dataframe thead th {\n",
       "        text-align: right;\n",
       "    }\n",
       "</style>\n",
       "<table border=\"1\" class=\"dataframe\">\n",
       "  <thead>\n",
       "    <tr style=\"text-align: right;\">\n",
       "      <th></th>\n",
       "      <th>web_name</th>\n",
       "      <th>selected_rank_type</th>\n",
       "    </tr>\n",
       "  </thead>\n",
       "  <tbody>\n",
       "    <tr>\n",
       "      <th>385</th>\n",
       "      <td>M.Salah</td>\n",
       "      <td>1</td>\n",
       "    </tr>\n",
       "    <tr>\n",
       "      <th>248</th>\n",
       "      <td>João Pedro</td>\n",
       "      <td>1</td>\n",
       "    </tr>\n",
       "    <tr>\n",
       "      <th>619</th>\n",
       "      <td>Wan-Bissaka</td>\n",
       "      <td>1</td>\n",
       "    </tr>\n",
       "    <tr>\n",
       "      <th>139</th>\n",
       "      <td>Kelleher</td>\n",
       "      <td>1</td>\n",
       "    </tr>\n",
       "    <tr>\n",
       "      <th>0</th>\n",
       "      <td>Raya</td>\n",
       "      <td>2</td>\n",
       "    </tr>\n",
       "    <tr>\n",
       "      <th>505</th>\n",
       "      <td>Isak</td>\n",
       "      <td>2</td>\n",
       "    </tr>\n",
       "    <tr>\n",
       "      <th>374</th>\n",
       "      <td>Frimpong</td>\n",
       "      <td>2</td>\n",
       "    </tr>\n",
       "    <tr>\n",
       "      <th>234</th>\n",
       "      <td>Palmer</td>\n",
       "      <td>2</td>\n",
       "    </tr>\n",
       "    <tr>\n",
       "      <th>32</th>\n",
       "      <td>Gyökeres</td>\n",
       "      <td>3</td>\n",
       "    </tr>\n",
       "    <tr>\n",
       "      <th>508</th>\n",
       "      <td>Sels</td>\n",
       "      <td>3</td>\n",
       "    </tr>\n",
       "    <tr>\n",
       "      <th>408</th>\n",
       "      <td>Aït-Nouri</td>\n",
       "      <td>3</td>\n",
       "    </tr>\n",
       "    <tr>\n",
       "      <th>386</th>\n",
       "      <td>Wirtz</td>\n",
       "      <td>3</td>\n",
       "    </tr>\n",
       "    <tr>\n",
       "      <th>633</th>\n",
       "      <td>Bowen</td>\n",
       "      <td>4</td>\n",
       "    </tr>\n",
       "    <tr>\n",
       "      <th>219</th>\n",
       "      <td>Sánchez</td>\n",
       "      <td>4</td>\n",
       "    </tr>\n",
       "    <tr>\n",
       "      <th>4</th>\n",
       "      <td>Gabriel</td>\n",
       "      <td>4</td>\n",
       "    </tr>\n",
       "    <tr>\n",
       "      <th>591</th>\n",
       "      <td>Kudus</td>\n",
       "      <td>4</td>\n",
       "    </tr>\n",
       "    <tr>\n",
       "      <th>286</th>\n",
       "      <td>Pickford</td>\n",
       "      <td>5</td>\n",
       "    </tr>\n",
       "    <tr>\n",
       "      <th>39</th>\n",
       "      <td>Konsa</td>\n",
       "      <td>5</td>\n",
       "    </tr>\n",
       "    <tr>\n",
       "      <th>48</th>\n",
       "      <td>Rogers</td>\n",
       "      <td>5</td>\n",
       "    </tr>\n",
       "    <tr>\n",
       "      <th>436</th>\n",
       "      <td>Haaland</td>\n",
       "      <td>5</td>\n",
       "    </tr>\n",
       "  </tbody>\n",
       "</table>\n",
       "</div>"
      ],
      "text/plain": [
       "        web_name  selected_rank_type\n",
       "385      M.Salah                   1\n",
       "248   João Pedro                   1\n",
       "619  Wan-Bissaka                   1\n",
       "139     Kelleher                   1\n",
       "0           Raya                   2\n",
       "505         Isak                   2\n",
       "374     Frimpong                   2\n",
       "234       Palmer                   2\n",
       "32      Gyökeres                   3\n",
       "508         Sels                   3\n",
       "408    Aït-Nouri                   3\n",
       "386        Wirtz                   3\n",
       "633        Bowen                   4\n",
       "219      Sánchez                   4\n",
       "4        Gabriel                   4\n",
       "591        Kudus                   4\n",
       "286     Pickford                   5\n",
       "39         Konsa                   5\n",
       "48        Rogers                   5\n",
       "436      Haaland                   5"
      ]
     },
     "execution_count": 10,
     "metadata": {},
     "output_type": "execute_result"
    }
   ],
   "source": [
    "pd.DataFrame(bootstrap_response.json()[\"elements\"]).sort_values(\"selected_rank_type\")[[\"web_name\", \"selected_rank_type\"]].head(20)"
   ]
  },
  {
   "cell_type": "code",
   "execution_count": null,
   "id": "7dc33d52-441f-4488-a337-f97be420356c",
   "metadata": {},
   "outputs": [],
   "source": []
  }
 ],
 "metadata": {
  "kernelspec": {
   "display_name": "predict_the_prem",
   "language": "python",
   "name": "predict_the_prem"
  },
  "language_info": {
   "codemirror_mode": {
    "name": "ipython",
    "version": 3
   },
   "file_extension": ".py",
   "mimetype": "text/x-python",
   "name": "python",
   "nbconvert_exporter": "python",
   "pygments_lexer": "ipython3",
   "version": "3.11.9"
  }
 },
 "nbformat": 4,
 "nbformat_minor": 5
}
